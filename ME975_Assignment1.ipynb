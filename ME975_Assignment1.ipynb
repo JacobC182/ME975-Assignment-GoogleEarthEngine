{
  "nbformat": 4,
  "nbformat_minor": 0,
  "metadata": {
    "colab": {
      "name": "ME975-Assignment1.ipynb",
      "provenance": [],
      "collapsed_sections": []
    },
    "kernelspec": {
      "name": "python3",
      "display_name": "Python 3"
    },
    "language_info": {
      "name": "python"
    }
  },
  "cells": [
    {
      "cell_type": "markdown",
      "source": [
        "ME975 Satellite Data Assimilation and Analysis - Assignment 1\n",
        "\n",
        "Jacob Currie - 201718558\n",
        "\n",
        "Below:\n",
        "**Initial setup script**, installs geemap (google maps style mapping/plotting)\n",
        "Prompts earthengine authentication token\n",
        "imports relevant libraries\n",
        "initialises earth engine\n",
        "\n",
        "Only needs to be run once at the start of each session!"
      ],
      "metadata": {
        "id": "E5JID0NoHd_A"
      }
    },
    {
      "cell_type": "code",
      "execution_count": null,
      "metadata": {
        "id": "7mMneC3uHdRc"
      },
      "outputs": [],
      "source": [
        "#Inital Setup\n",
        "!pip install geemap\n",
        "!earthengine authenticate \n",
        "import ee\n",
        "import geemap.eefolium\n",
        "import pprint as pp\n",
        "import matplotlib.pyplot as plt\n",
        "ee.Initialize()"
      ]
    },
    {
      "cell_type": "markdown",
      "source": [
        "Below:\n",
        "The **Main Script** using earth engine to collect, process and store the relevant data.\n",
        "\n",
        "It only needs to be run once to acquire and store the data for use elsewhere.\n",
        "\n",
        "(This takes time to run, the .getInfo() method causes delay in acquiring data as it pulled from GEE servers)"
      ],
      "metadata": {
        "id": "YOG-qgt-gGUK"
      }
    },
    {
      "cell_type": "code",
      "source": [
        "#Main Script\n",
        "DistrictNamesList = ['Borders', 'Central', 'Dumfries and Gal', 'Fyfe', 'Grampian', 'Highland', 'Lothian', 'Orkney', 'Shetland Islands', 'Strathclyde', 'Tayside', 'Western Isles'] #List of the level2 District Names\n",
        "\n",
        "NO2_2019List = [] #Empty lists for storing per-district data\n",
        "NO2_2020List = []\n",
        "NO2_2021List = []\n",
        "PopDensList = []\n",
        "\n",
        "Scotland_Bounds = ee.FeatureCollection(\"FAO/GAUL/2015/level2\").filterMetadata('ADM1_NAME', 'equals', 'Scotland') #Getting Scotland District Bounds\n",
        "Population_Data = ee.Image(\"JRC/GHSL/P2016/POP_GPW_GLOBE_V1/2015\").select('population_count').clip(Scotland_Bounds.geometry()) #Getting Population data\n",
        "NO2_Data = ee.ImageCollection(\"COPERNICUS/S5P/OFFL/L3_NO2\").filterBounds(Scotland_Bounds.geometry()) #Getting total NO2 data\n",
        "\n",
        "NO2_2019 = NO2_Data.filterDate('2019-01-01', '2019-12-31').mean().select(['tropospheric_NO2_column_number_density']).clip(Scotland_Bounds.geometry()) #Per-Year mean NO2 column density image clipped to Scotland\n",
        "NO2_2020 = NO2_Data.filterDate('2020-01-01', '2020-12-31').mean().select(['tropospheric_NO2_column_number_density']).clip(Scotland_Bounds.geometry())\n",
        "NO2_2021 = NO2_Data.filterDate('2021-01-01', '2021-12-31').mean().select(['tropospheric_NO2_column_number_density']).clip(Scotland_Bounds.geometry()) \n",
        "\n",
        "for District in DistrictNamesList: #For every district - calling .getInfo() inside loop - inefficient but it works\n",
        "  District_Bounds = Scotland_Bounds.filterMetadata('ADM2_NAME', 'equals', District).geometry() #Getting level2 district data\n",
        "  NO2_2019List.append(NO2_2019.reduceRegion(**{'geometry': District_Bounds, 'reducer': ee.Reducer.mean(),'scale': 1000,}).getInfo()['tropospheric_NO2_column_number_density']) #NO2 value for each district\n",
        "  NO2_2020List.append(NO2_2020.reduceRegion(**{'geometry': District_Bounds, 'reducer': ee.Reducer.mean(),'scale': 1000,}).getInfo()['tropospheric_NO2_column_number_density']) #per-year NO2 value (reduce over region)\n",
        "  NO2_2021List.append(NO2_2021.reduceRegion(**{'geometry': District_Bounds, 'reducer': ee.Reducer.mean(),'scale': 1000,}).getInfo()['tropospheric_NO2_column_number_density'])\n",
        "  PopSize = Population_Data.reduceRegion(**{'geometry': District_Bounds, 'reducer': ee.Reducer.sum(), 'scale': 250, 'maxPixels':1e9})  #Getting total population size per district (reduce over region)\n",
        "  PopDensList.append(PopSize.getInfo()['population_count']/ District_Bounds.area().getInfo()) #Calculating population density per district {=total population / district area}\n",
        "\n",
        "for i in range(len(DistrictNamesList)): #PRINTING RESULTS TO CONSOLE - for each district - printing NO2 and population density\n",
        "  print('District: '+DistrictNamesList[i])\n",
        "  print('(mol/m^2) 2019 NO2: '+str(round(NO2_2019List[i],12))+' //2020 NO2: '+str(round(NO2_2020List[i],12))+' //2021 NO2: '+str(round(NO2_2021List[i],12))+' //Population Density: '+str(PopDensList[i]))\n",
        "  print('---------------------')\n"
      ],
      "metadata": {
        "id": "BINf9LWXH8mf"
      },
      "execution_count": null,
      "outputs": []
    },
    {
      "cell_type": "markdown",
      "source": [
        "Below: The **Mapping Script** that produces the Geemap (Google maps style) figures, each different set of data (year selection, NO2, population size, etc.) are represented as different layers on the map that can be shown and hidden from the layer menu."
      ],
      "metadata": {
        "id": "dQvdyctEjWy1"
      }
    },
    {
      "cell_type": "code",
      "source": [
        "#Geemap Mapping Script\n",
        "#Some lines may be commented in and out to view only certain results/legends - Colab wont let Map go fullscreen\n",
        "#plotting options\n",
        "NO2_viz = {'min': 0, 'max': 0.00004, 'palette': ['black', 'blue', 'purple', 'cyan', 'green', 'yellow', 'red']}\n",
        "Pop_viz = {'min': 0, 'max': 6, 'palette': ['white', 'blue', 'purple', 'cyan', 'green', 'yellow', 'red']}\n",
        "colors = ['red', 'green', 'blue', 'pink', 'black', 'white', 'orange', 'yellow', 'purple', 'gray', 'brown', 'lime']\n",
        "\n",
        "#Making Geemap + layers\n",
        "Map = geemap.Map(center=[57.404790, -4.304002], zoom=6) #creating map\n",
        "Map.addLayer(Population_Data, Pop_viz, 'Population')  #population map\n",
        "Map.addLayer(NO2_2019, NO2_viz, 'NO2 2019')\n",
        "Map.addLayer(NO2_2020, NO2_viz, 'NO2 2020') #No2 maps\n",
        "Map.addLayer(NO2_2021, NO2_viz, 'NO2 2021')\n",
        "Map.addLayer(Scotland_Bounds, {}, 'Bounds') #district bounds\n",
        "Map.addLayerControl()\n",
        "\n",
        "import matplotlib.colors as cl #color to hexadecimal method needed from library for legend dictionaries\n",
        "\n",
        "boundslegend_dict = {} #Creating district bounds legend with colours\n",
        "for i in range(len(DistrictNamesList)):\n",
        "  boundslegend_dict[DistrictNamesList[i]] = cl.to_hex(colors[i])\n",
        "\n",
        "#creating NO2 legend dictionary with colours\n",
        "no2legend_dict = {'0':cl.to_hex('black'), '0.66e-5':cl.to_hex('blue'), '1.33e-5':cl.to_hex('purple'), '2.00e-5':cl.to_hex('cyan'), '2.66e-5':cl.to_hex('green'), '3.33e-5':cl.to_hex('yellow'), '4.00e-5':cl.to_hex('red')}\n",
        "#creating population legend dictionary with colours\n",
        "poplegend_dict = {'0':cl.to_hex('white'), '1':cl.to_hex('blue'), '2':cl.to_hex('purple'), '3':cl.to_hex('cyan'), '4':cl.to_hex('green'), '5':cl.to_hex('yellow'), '6+':cl.to_hex('red')}\n",
        "\n",
        "Map.add_legend('Legend', boundslegend_dict) #adding legends to Map\n",
        "Map.add_legend('Population per Cell', poplegend_dict)\n",
        "Map.add_legend('NO2', no2legend_dict)\n",
        "\n",
        "for i in range(len(DistrictNamesList)): #Adding District bounds coloured layers to Map\n",
        "  District_Bounds = Scotland_Bounds.filterMetadata('ADM2_NAME', 'equals', DistrictNamesList[i])\n",
        "  Map.addLayer(District_Bounds.geometry(), {'color': colors[i]}, DistrictNamesList[i])\n",
        "\n",
        "Map #Display Map"
      ],
      "metadata": {
        "id": "OpVoJYPLjRhg"
      },
      "execution_count": null,
      "outputs": []
    },
    {
      "cell_type": "markdown",
      "source": [
        "Below: Plotting Script for generating traditional figures using matplotlib plotting\n",
        "\n",
        "This script was developed offline (hence the hardcoded arrays)\n",
        "\n",
        "This script also saves the results to a table in EXCEL (Python library: xlwt)"
      ],
      "metadata": {
        "id": "x6EVNL3vzbIh"
      }
    },
    {
      "cell_type": "code",
      "source": [
        "#ME975 - Assignment - Jacob Currie - 201718558\n",
        "#---------------------------------------------\n",
        "#Plotting/Graphing Script\n",
        "import matplotlib.pyplot as plt\n",
        "import numpy as np\n",
        "\n",
        "#hardcoded arrays of input data taken from google colab variables\n",
        "DistrictNamesList = ['Borders', 'Central', 'Dumfries & Gal', 'Fyfe', 'Grampian', 'Highland', 'Lothian', 'Orkney', 'Shetland Islands', 'Strathclyde', 'Tayside', 'Western Isles']\n",
        "Data2019 = [2.2122008554262085e-05,2.3609144718329626e-05,2.2920205749643354e-05,2.996572421056435e-05,1.7438069491396237e-05,1.6123909193907615e-05,\n",
        "            2.978613519760064e-05,1.2591065901324445e-05,1.2150154708114013e-05,2.2034038841374178e-05,1.916083730769428e-05,1.2717830142645274e-05]\n",
        "Data2020 = [2.0716044129793837e-05,2.184295374201366e-05,2.0838283314443245e-05,2.7177963032354258e-05,1.8644532261182567e-05,1.5392865174184957e-05,\n",
        "            2.5521300512970897e-05,1.227162058641417e-05,9.72305618677271e-06,2.04907429503703e-05,1.9815419902427874e-05,1.0717729418158482e-05]\n",
        "Data2021 = [2.210136053056543e-05,2.207590961163332e-05,2.0215835905095158e-05,3.0077168762210414e-05,1.9320790396829416e-05,1.439016460944674e-05,\n",
        "            3.158178579266714e-05,1.1731656606566475e-05,1.0305211852537112e-05,2.0276745580832056e-05,1.9620622300899496e-05,1.0706163989725942e-05]\n",
        "LegendLabels = ['2019', '2020', '2021']            \n",
        "PopDensity = [2.49289177832715e-05,0.00011463267606779667,2.3413799137766673e-05,0.0002722375960673222,6.604844414118531e-05,8.820244062438711e-06,\n",
        "            0.0004746136196991526,2.0756991266692525e-05,1.2111503364635487e-05,0.00015828110200027238,5.21235078302237e-05,8.524820130842963e-06]\n",
        "\n",
        "sortIndex = np.argsort(PopDensity)  #Getting sorted list indices for population density\n",
        "\n",
        "def argSort(data, indices): #sort list with given list or indices\n",
        "    newList = []\n",
        "    for i in indices:\n",
        "        newList.append(data[i])\n",
        "    return newList\n",
        "#Creating sorted lists (SORTED BY ASCENDING POPULATION DENSITY)\n",
        "PopDensitySorted = argSort(PopDensity, sortIndex)\n",
        "Data2019Sorted = argSort(Data2019, sortIndex)\n",
        "Data2020Sorted = argSort(Data2020, sortIndex)\n",
        "Data2021Sorted = argSort(Data2021, sortIndex)\n",
        "DistrictsSorted = argSort(DistrictNamesList, sortIndex)\n",
        "\n",
        "#Saving to Excel doc\n",
        "import xlwt\n",
        "W = xlwt.Workbook()\n",
        "Ws = W.add_sheet(\"Results\")\n",
        "\n",
        "Ws.write(2,1,\"District\")\n",
        "Ws.write(3,1,\"2019\")\n",
        "Ws.write(4,1,\"2020\")\n",
        "Ws.write(5,1,\"2021\")\n",
        "Ws.write(6,1,\"Pop Density\")\n",
        "\n",
        "for i in range(0, len(DistrictNamesList)):\n",
        "    Ws.write(2, i + 2, DistrictNamesList[i])\n",
        "    Ws.write(3, i + 2, Data2019[i])\n",
        "    Ws.write(4, i + 2, Data2020[i])\n",
        "    Ws.write(5, i + 2, Data2021[i])\n",
        "    Ws.write(6, i + 2, PopDensity[i])\n",
        "\n",
        "Wa = W.add_sheet(\"Results2\")\n",
        "\n",
        "Wa.write(1,2,\"District\")\n",
        "Wa.write(1,3,\"2019\")\n",
        "Wa.write(1,4,\"2020\")\n",
        "Wa.write(1,5,\"2021\")\n",
        "Wa.write(1,6,\"Pop Density\")\n",
        "\n",
        "\n",
        "for i in range(0, len(DistrictNamesList)):\n",
        "    Wa.write(i + 2,2, DistrictNamesList[i])\n",
        "    Wa.write(i + 2,3, Data2019[i])\n",
        "    Wa.write(i + 2,4, Data2020[i])\n",
        "    Wa.write(i + 2,5, Data2021[i])\n",
        "    Wa.write(i + 2,6, PopDensity[i])\n",
        "\n",
        "#W.save(\"Result.xls\")\n",
        "\n",
        "N = len(DistrictNamesList)  #bar chart spacing\n",
        "xIndex = np.arange(N) * 4\n",
        "\n",
        "def NO2_Plot(data, labels): #Bar chart plotting function\n",
        "    f1, ax = plt.subplots()\n",
        "    c=['#66c2a5', '#fc8d62', '#8da0cb'] #Colours - colourblind safe and pretty\n",
        "    for j in range(len(data)):\n",
        "        ax.bar(xIndex + j, data[j], color=c[j])\n",
        "\n",
        "    ax.set_xticks(xIndex + 1)\n",
        "    ax.set_xticklabels(labels)\n",
        "    ax.legend(LegendLabels)\n",
        "    ax.set_ylabel('tropospheric NO2 column number density (mol/m^2)')\n",
        "    ax.set_title('Annual average Tropospheric NO2 Column density per District in Scotland')\n",
        "    \n",
        "rawData = [Data2019, Data2020, Data2021] #combine data\n",
        "NO2_Plot(rawData, DistrictNamesList)    #plot data\n",
        "\n",
        "rawDataSorted = [Data2019Sorted, Data2020Sorted, Data2021Sorted]  #sorted\n",
        "NO2_Plot(rawDataSorted, DistrictsSorted)    #sorted plot\n",
        "\n",
        "def NO2_Line():  #NO2 Line graph Function\n",
        "    f1, ax = plt.subplots() #colours - not colourblind safe but prettier\n",
        "    c = ['#a6cee3','#1f78b4','#b2df8a','#33a02c','#fb9a99','#e31a1c','#fdbf6f','#ff7f00','#cab2d6','#6a3d9a','#ffff99','#b15928']\n",
        "    DistrictData = []\n",
        "    for i in range(len(Data2019)):\n",
        "        DistrictData.append([Data2019Sorted[i], Data2020Sorted[i], Data2021Sorted[i]])\n",
        "\n",
        "    for i in range(len(DistrictsSorted)):\n",
        "        ax.plot([2019, 2020, 2021], DistrictData[i], '-o', color=c[i])\n",
        "\n",
        "    ax.set_xticks([2019,2020,2021])\n",
        "    ax.legend(DistrictsSorted, bbox_to_anchor=(1,1), loc=\"upper left\")\n",
        "    ax.grid()\n",
        "    ax.set_xlabel('Year')\n",
        "    ax.set_ylabel('Tropospheric NO2 Column number Density (mol/m^2)')\n",
        "    ax.set_title('Annual Average Tropospheric NO2 Column density Per Year')\n",
        "\n",
        "NO2_Line()  #plotting line graph\n",
        "plt.show()  #show plots"
      ],
      "metadata": {
        "id": "4kALIRp1immU"
      },
      "execution_count": null,
      "outputs": []
    }
  ]
}