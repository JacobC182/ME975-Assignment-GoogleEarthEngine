{
  "nbformat": 4,
  "nbformat_minor": 0,
  "metadata": {
    "colab": {
      "name": "ME975-Assignment1.ipynb",
      "provenance": [],
      "collapsed_sections": []
    },
    "kernelspec": {
      "name": "python3",
      "display_name": "Python 3"
    },
    "language_info": {
      "name": "python"
    },
    "widgets": {
      "application/vnd.jupyter.widget-state+json": {
        "2ef0e66c11f7440b8b44eba7b044adf4": {
          "model_module": "jupyter-leaflet",
          "model_name": "LeafletMapModel",
          "model_module_version": "^0.15.0",
          "state": {
            "_dom_classes": [],
            "_model_module": "jupyter-leaflet",
            "_model_module_version": "^0.15.0",
            "_model_name": "LeafletMapModel",
            "_view_count": null,
            "_view_module": "jupyter-leaflet",
            "_view_module_version": "^0.15.0",
            "_view_name": "LeafletMapView",
            "bottom": 5285,
            "bounce_at_zoom_limits": true,
            "box_zoom": true,
            "center": [
              57.40479,
              -4.304002
            ],
            "close_popup_on_click": true,
            "controls": [
              "IPY_MODEL_9f434f3fc02f4b9992c590d7b9470a2b",
              "IPY_MODEL_997e89b0e6b5456995c86d9d4f20a393",
              "IPY_MODEL_5d6c6ba3d2804556abeff1044a63c32d",
              "IPY_MODEL_03d3dafa5f2b4226bf679a040d8d9066",
              "IPY_MODEL_5d4862821a254728bf74472828f758d7",
              "IPY_MODEL_ca5cec17e7154126a344f28d02836579",
              "IPY_MODEL_6a64f3fc3af04a068323c6055140c376",
              "IPY_MODEL_166fa37d22634fa2a19e645f0acf9cf1"
            ],
            "crs": {
              "name": "EPSG3857",
              "custom": false
            },
            "default_style": "IPY_MODEL_25703c7d6c354abca3b86a7a554647c9",
            "double_click_zoom": true,
            "dragging": true,
            "dragging_style": "IPY_MODEL_25b4a688a9324fd08bb27b78172ddca6",
            "east": 15.402832031250002,
            "fullscreen": false,
            "inertia": true,
            "inertia_deceleration": 3000,
            "inertia_max_speed": 1500,
            "interpolation": "bilinear",
            "keyboard": true,
            "keyboard_pan_offset": 80,
            "keyboard_zoom_offset": 1,
            "layers": [
              "IPY_MODEL_7bb5ae95229541ec97069a60f95057c9",
              "IPY_MODEL_147303337cec42fd9fea5f422cbefe7b",
              "IPY_MODEL_3f485fda48e74587aaf69a4b9cd7e077",
              "IPY_MODEL_a2026be8ff154dea814ce4120d38ba72",
              "IPY_MODEL_e4e8c5c055c64f61962fc887a1ad9f35",
              "IPY_MODEL_f17938fadbaf453cb557f72ebf15f581",
              "IPY_MODEL_4a6e9398497b49eeaf0e1d03e92d13dc"
            ],
            "layout": "IPY_MODEL_b0e27d96f4944318aa7ab683e0cc835d",
            "left": 7099,
            "max_zoom": 24,
            "min_zoom": 1,
            "modisdate": "2022-03-17",
            "north": 60.79134306865253,
            "options": [
              "bounce_at_zoom_limits",
              "box_zoom",
              "center",
              "close_popup_on_click",
              "double_click_zoom",
              "dragging",
              "fullscreen",
              "inertia",
              "inertia_deceleration",
              "inertia_max_speed",
              "interpolation",
              "keyboard",
              "keyboard_pan_offset",
              "keyboard_zoom_offset",
              "max_zoom",
              "min_zoom",
              "prefer_canvas",
              "scroll_wheel_zoom",
              "tap",
              "tap_tolerance",
              "touch_zoom",
              "world_copy_jump",
              "zoom",
              "zoom_animation_threshold",
              "zoom_delta",
              "zoom_snap",
              "zoom_start"
            ],
            "prefer_canvas": false,
            "right": 8893,
            "scroll_wheel_zoom": true,
            "south": 53.68369534495075,
            "style": "IPY_MODEL_8672f74af0f64d5a96d30022d9d0afbe",
            "tap": true,
            "tap_tolerance": 15,
            "top": 4685,
            "touch_zoom": true,
            "west": -24.01611328125,
            "window_url": "https://s49n4ycoehj-496ff2e9c6d22116-0-colab.googleusercontent.com/outputframe.html?vrz=colab-20220316-060047-RC01_435063902",
            "world_copy_jump": false,
            "zoom": 6,
            "zoom_animation_threshold": 4,
            "zoom_delta": 1,
            "zoom_snap": 1,
            "zoom_start": 12
          }
        },
        "9f434f3fc02f4b9992c590d7b9470a2b": {
          "model_module": "jupyter-leaflet",
          "model_name": "LeafletWidgetControlModel",
          "model_module_version": "^0.15.0",
          "state": {
            "_model_module": "jupyter-leaflet",
            "_model_module_version": "^0.15.0",
            "_model_name": "LeafletWidgetControlModel",
            "_view_count": null,
            "_view_module": "jupyter-leaflet",
            "_view_module_version": "^0.15.0",
            "_view_name": "LeafletWidgetControlView",
            "max_height": null,
            "max_width": null,
            "min_height": null,
            "min_width": null,
            "options": [
              "position",
              "transparent_bg"
            ],
            "position": "topleft",
            "transparent_bg": false,
            "widget": "IPY_MODEL_304390a5e5b0436b8aec474eeb7d87fa"
          }
        },
        "997e89b0e6b5456995c86d9d4f20a393": {
          "model_module": "jupyter-leaflet",
          "model_name": "LeafletZoomControlModel",
          "model_module_version": "^0.15.0",
          "state": {
            "_model_module": "jupyter-leaflet",
            "_model_module_version": "^0.15.0",
            "_model_name": "LeafletZoomControlModel",
            "_view_count": null,
            "_view_module": "jupyter-leaflet",
            "_view_module_version": "^0.15.0",
            "_view_name": "LeafletZoomControlView",
            "options": [
              "position",
              "zoom_in_text",
              "zoom_in_title",
              "zoom_out_text",
              "zoom_out_title"
            ],
            "position": "topleft",
            "zoom_in_text": "+",
            "zoom_in_title": "Zoom in",
            "zoom_out_text": "-",
            "zoom_out_title": "Zoom out"
          }
        },
        "5d6c6ba3d2804556abeff1044a63c32d": {
          "model_module": "jupyter-leaflet",
          "model_name": "LeafletScaleControlModel",
          "model_module_version": "^0.15.0",
          "state": {
            "_model_module": "jupyter-leaflet",
            "_model_module_version": "^0.15.0",
            "_model_name": "LeafletScaleControlModel",
            "_view_count": null,
            "_view_module": "jupyter-leaflet",
            "_view_module_version": "^0.15.0",
            "_view_name": "LeafletScaleControlView",
            "imperial": true,
            "max_width": 100,
            "metric": true,
            "options": [
              "imperial",
              "max_width",
              "metric",
              "position",
              "update_when_idle"
            ],
            "position": "bottomleft",
            "update_when_idle": false
          }
        },
        "03d3dafa5f2b4226bf679a040d8d9066": {
          "model_module": "jupyter-leaflet",
          "model_name": "LeafletFullScreenControlModel",
          "model_module_version": "^0.15.0",
          "state": {
            "_model_module": "jupyter-leaflet",
            "_model_module_version": "^0.15.0",
            "_model_name": "LeafletFullScreenControlModel",
            "_view_count": null,
            "_view_module": "jupyter-leaflet",
            "_view_module_version": "^0.15.0",
            "_view_name": "LeafletFullScreenControlView",
            "options": [
              "position"
            ],
            "position": "topleft"
          }
        },
        "5d4862821a254728bf74472828f758d7": {
          "model_module": "jupyter-leaflet",
          "model_name": "LeafletMeasureControlModel",
          "model_module_version": "^0.15.0",
          "state": {
            "_custom_units": {},
            "_model_module": "jupyter-leaflet",
            "_model_module_version": "^0.15.0",
            "_model_name": "LeafletMeasureControlModel",
            "_view_count": null,
            "_view_module": "jupyter-leaflet",
            "_view_module_version": "^0.15.0",
            "_view_name": "LeafletMeasureControlView",
            "active_color": "orange",
            "capture_z_index": 10000,
            "completed_color": "#C8F2BE",
            "options": [
              "active_color",
              "capture_z_index",
              "completed_color",
              "popup_options",
              "position",
              "primary_area_unit",
              "primary_length_unit",
              "secondary_area_unit",
              "secondary_length_unit"
            ],
            "popup_options": {
              "className": "leaflet-measure-resultpopup",
              "autoPanPadding": [
                10,
                10
              ]
            },
            "position": "bottomleft",
            "primary_area_unit": "acres",
            "primary_length_unit": "kilometers",
            "secondary_area_unit": null,
            "secondary_length_unit": null
          }
        },
        "ca5cec17e7154126a344f28d02836579": {
          "model_module": "jupyter-leaflet",
          "model_name": "LeafletAttributionControlModel",
          "model_module_version": "^0.15.0",
          "state": {
            "_model_module": "jupyter-leaflet",
            "_model_module_version": "^0.15.0",
            "_model_name": "LeafletAttributionControlModel",
            "_view_count": null,
            "_view_module": "jupyter-leaflet",
            "_view_module_version": "^0.15.0",
            "_view_name": "LeafletAttributionControlView",
            "options": [
              "position",
              "prefix"
            ],
            "position": "bottomright",
            "prefix": "ipyleaflet"
          }
        },
        "6a64f3fc3af04a068323c6055140c376": {
          "model_module": "jupyter-leaflet",
          "model_name": "LeafletDrawControlModel",
          "model_module_version": "^0.15.0",
          "state": {
            "_model_module": "jupyter-leaflet",
            "_model_module_version": "^0.15.0",
            "_model_name": "LeafletDrawControlModel",
            "_view_count": null,
            "_view_module": "jupyter-leaflet",
            "_view_module_version": "^0.15.0",
            "_view_name": "LeafletDrawControlView",
            "circle": {
              "shapeOptions": {
                "color": "#3388ff"
              }
            },
            "circlemarker": {},
            "data": [],
            "edit": true,
            "marker": {
              "shapeOptions": {
                "color": "#3388ff"
              }
            },
            "options": [
              "position"
            ],
            "polygon": {
              "shapeOptions": {}
            },
            "polyline": {
              "shapeOptions": {}
            },
            "position": "topleft",
            "rectangle": {
              "shapeOptions": {
                "color": "#3388ff"
              }
            },
            "remove": true
          }
        },
        "166fa37d22634fa2a19e645f0acf9cf1": {
          "model_module": "jupyter-leaflet",
          "model_name": "LeafletWidgetControlModel",
          "model_module_version": "^0.15.0",
          "state": {
            "_model_module": "jupyter-leaflet",
            "_model_module_version": "^0.15.0",
            "_model_name": "LeafletWidgetControlModel",
            "_view_count": null,
            "_view_module": "jupyter-leaflet",
            "_view_module_version": "^0.15.0",
            "_view_name": "LeafletWidgetControlView",
            "max_height": null,
            "max_width": null,
            "min_height": null,
            "min_width": null,
            "options": [
              "position",
              "transparent_bg"
            ],
            "position": "topright",
            "transparent_bg": false,
            "widget": "IPY_MODEL_7b74ef61838143c3a73504b6f5559606"
          }
        },
        "25703c7d6c354abca3b86a7a554647c9": {
          "model_module": "jupyter-leaflet",
          "model_name": "LeafletMapStyleModel",
          "model_module_version": "^0.15.0",
          "state": {
            "_model_module": "jupyter-leaflet",
            "_model_module_version": "^0.15.0",
            "_model_name": "LeafletMapStyleModel",
            "_view_count": null,
            "_view_module": "@jupyter-widgets/base",
            "_view_module_version": "1.2.0",
            "_view_name": "StyleView",
            "cursor": "grab"
          }
        },
        "25b4a688a9324fd08bb27b78172ddca6": {
          "model_module": "jupyter-leaflet",
          "model_name": "LeafletMapStyleModel",
          "model_module_version": "^0.15.0",
          "state": {
            "_model_module": "jupyter-leaflet",
            "_model_module_version": "^0.15.0",
            "_model_name": "LeafletMapStyleModel",
            "_view_count": null,
            "_view_module": "@jupyter-widgets/base",
            "_view_module_version": "1.2.0",
            "_view_name": "StyleView",
            "cursor": "move"
          }
        },
        "7bb5ae95229541ec97069a60f95057c9": {
          "model_module": "jupyter-leaflet",
          "model_name": "LeafletTileLayerModel",
          "model_module_version": "^0.15.0",
          "state": {
            "_model_module": "jupyter-leaflet",
            "_model_module_version": "^0.15.0",
            "_model_name": "LeafletTileLayerModel",
            "_view_count": null,
            "_view_module": "jupyter-leaflet",
            "_view_module_version": "^0.15.0",
            "_view_name": "LeafletTileLayerView",
            "attribution": "&copy; <a href=\"https://www.openstreetmap.org/copyright\">OpenStreetMap</a> contributors",
            "base": true,
            "bottom": true,
            "detect_retina": false,
            "loading": false,
            "max_native_zoom": 18,
            "max_zoom": 19,
            "min_native_zoom": 0,
            "min_zoom": 1,
            "name": "OpenStreetMap.Mapnik",
            "no_wrap": false,
            "opacity": 1,
            "options": [
              "attribution",
              "detect_retina",
              "max_native_zoom",
              "max_zoom",
              "min_native_zoom",
              "min_zoom",
              "no_wrap",
              "tile_size",
              "tms"
            ],
            "popup": null,
            "popup_max_height": null,
            "popup_max_width": 300,
            "popup_min_width": 50,
            "show_loading": false,
            "tile_size": 256,
            "tms": false,
            "url": "https://a.tile.openstreetmap.org/{z}/{x}/{y}.png",
            "visible": true
          }
        },
        "147303337cec42fd9fea5f422cbefe7b": {
          "model_module": "jupyter-leaflet",
          "model_name": "LeafletTileLayerModel",
          "model_module_version": "^0.15.0",
          "state": {
            "_model_module": "jupyter-leaflet",
            "_model_module_version": "^0.15.0",
            "_model_name": "LeafletTileLayerModel",
            "_view_count": null,
            "_view_module": "jupyter-leaflet",
            "_view_module_version": "^0.15.0",
            "_view_name": "LeafletTileLayerView",
            "attribution": "Google",
            "base": false,
            "bottom": true,
            "detect_retina": false,
            "loading": false,
            "max_native_zoom": 18,
            "max_zoom": 22,
            "min_native_zoom": 0,
            "min_zoom": 0,
            "name": "Google Maps",
            "no_wrap": false,
            "opacity": 1,
            "options": [
              "attribution",
              "detect_retina",
              "max_native_zoom",
              "max_zoom",
              "min_native_zoom",
              "min_zoom",
              "no_wrap",
              "tile_size",
              "tms"
            ],
            "popup": null,
            "popup_max_height": null,
            "popup_max_width": 300,
            "popup_min_width": 50,
            "show_loading": false,
            "tile_size": 256,
            "tms": false,
            "url": "https://mt1.google.com/vt/lyrs=m&x={x}&y={y}&z={z}",
            "visible": true
          }
        },
        "3f485fda48e74587aaf69a4b9cd7e077": {
          "model_module": "jupyter-leaflet",
          "model_name": "LeafletTileLayerModel",
          "model_module_version": "^0.15.0",
          "state": {
            "_model_module": "jupyter-leaflet",
            "_model_module_version": "^0.15.0",
            "_model_name": "LeafletTileLayerModel",
            "_view_count": null,
            "_view_module": "jupyter-leaflet",
            "_view_module_version": "^0.15.0",
            "_view_name": "LeafletTileLayerView",
            "attribution": "Google Earth Engine",
            "base": false,
            "bottom": true,
            "detect_retina": false,
            "loading": false,
            "max_native_zoom": 18,
            "max_zoom": 24,
            "min_native_zoom": 0,
            "min_zoom": 0,
            "name": "Population",
            "no_wrap": false,
            "opacity": 1,
            "options": [
              "attribution",
              "detect_retina",
              "max_native_zoom",
              "max_zoom",
              "min_native_zoom",
              "min_zoom",
              "no_wrap",
              "tile_size",
              "tms"
            ],
            "popup": null,
            "popup_max_height": null,
            "popup_max_width": 300,
            "popup_min_width": 50,
            "show_loading": false,
            "tile_size": 256,
            "tms": false,
            "url": "https://earthengine.googleapis.com/v1alpha/projects/earthengine-legacy/maps/98d5c48215b72736d71165d12fed7419-acbbedc058bcca8a7e504d55c3b1c932/tiles/{z}/{x}/{y}",
            "visible": true
          }
        },
        "a2026be8ff154dea814ce4120d38ba72": {
          "model_module": "jupyter-leaflet",
          "model_name": "LeafletTileLayerModel",
          "model_module_version": "^0.15.0",
          "state": {
            "_model_module": "jupyter-leaflet",
            "_model_module_version": "^0.15.0",
            "_model_name": "LeafletTileLayerModel",
            "_view_count": null,
            "_view_module": "jupyter-leaflet",
            "_view_module_version": "^0.15.0",
            "_view_name": "LeafletTileLayerView",
            "attribution": "Google Earth Engine",
            "base": false,
            "bottom": true,
            "detect_retina": false,
            "loading": false,
            "max_native_zoom": 18,
            "max_zoom": 24,
            "min_native_zoom": 0,
            "min_zoom": 0,
            "name": "NO2 2019",
            "no_wrap": false,
            "opacity": 1,
            "options": [
              "attribution",
              "detect_retina",
              "max_native_zoom",
              "max_zoom",
              "min_native_zoom",
              "min_zoom",
              "no_wrap",
              "tile_size",
              "tms"
            ],
            "popup": null,
            "popup_max_height": null,
            "popup_max_width": 300,
            "popup_min_width": 50,
            "show_loading": false,
            "tile_size": 256,
            "tms": false,
            "url": "https://earthengine.googleapis.com/v1alpha/projects/earthengine-legacy/maps/c44726c17149f7c2ab1d958c31e8c2af-c72e67558c730dcdf9241f748260a34e/tiles/{z}/{x}/{y}",
            "visible": true
          }
        },
        "e4e8c5c055c64f61962fc887a1ad9f35": {
          "model_module": "jupyter-leaflet",
          "model_name": "LeafletTileLayerModel",
          "model_module_version": "^0.15.0",
          "state": {
            "_model_module": "jupyter-leaflet",
            "_model_module_version": "^0.15.0",
            "_model_name": "LeafletTileLayerModel",
            "_view_count": null,
            "_view_module": "jupyter-leaflet",
            "_view_module_version": "^0.15.0",
            "_view_name": "LeafletTileLayerView",
            "attribution": "Google Earth Engine",
            "base": false,
            "bottom": true,
            "detect_retina": false,
            "loading": false,
            "max_native_zoom": 18,
            "max_zoom": 24,
            "min_native_zoom": 0,
            "min_zoom": 0,
            "name": "NO2 2020",
            "no_wrap": false,
            "opacity": 1,
            "options": [
              "attribution",
              "detect_retina",
              "max_native_zoom",
              "max_zoom",
              "min_native_zoom",
              "min_zoom",
              "no_wrap",
              "tile_size",
              "tms"
            ],
            "popup": null,
            "popup_max_height": null,
            "popup_max_width": 300,
            "popup_min_width": 50,
            "show_loading": false,
            "tile_size": 256,
            "tms": false,
            "url": "https://earthengine.googleapis.com/v1alpha/projects/earthengine-legacy/maps/0a426c164b1806f5e87c7e0238c0bafa-265580b269c1085781ceda096e2b5045/tiles/{z}/{x}/{y}",
            "visible": true
          }
        },
        "f17938fadbaf453cb557f72ebf15f581": {
          "model_module": "jupyter-leaflet",
          "model_name": "LeafletTileLayerModel",
          "model_module_version": "^0.15.0",
          "state": {
            "_model_module": "jupyter-leaflet",
            "_model_module_version": "^0.15.0",
            "_model_name": "LeafletTileLayerModel",
            "_view_count": null,
            "_view_module": "jupyter-leaflet",
            "_view_module_version": "^0.15.0",
            "_view_name": "LeafletTileLayerView",
            "attribution": "Google Earth Engine",
            "base": false,
            "bottom": true,
            "detect_retina": false,
            "loading": false,
            "max_native_zoom": 18,
            "max_zoom": 24,
            "min_native_zoom": 0,
            "min_zoom": 0,
            "name": "NO2 2021",
            "no_wrap": false,
            "opacity": 1,
            "options": [
              "attribution",
              "detect_retina",
              "max_native_zoom",
              "max_zoom",
              "min_native_zoom",
              "min_zoom",
              "no_wrap",
              "tile_size",
              "tms"
            ],
            "popup": null,
            "popup_max_height": null,
            "popup_max_width": 300,
            "popup_min_width": 50,
            "show_loading": false,
            "tile_size": 256,
            "tms": false,
            "url": "https://earthengine.googleapis.com/v1alpha/projects/earthengine-legacy/maps/a209641e1f48b1a72d1134cda2cd0cfb-ce2f705287aa2983a9118a45b55cf51f/tiles/{z}/{x}/{y}",
            "visible": true
          }
        },
        "4a6e9398497b49eeaf0e1d03e92d13dc": {
          "model_module": "jupyter-leaflet",
          "model_name": "LeafletTileLayerModel",
          "model_module_version": "^0.15.0",
          "state": {
            "_model_module": "jupyter-leaflet",
            "_model_module_version": "^0.15.0",
            "_model_name": "LeafletTileLayerModel",
            "_view_count": null,
            "_view_module": "jupyter-leaflet",
            "_view_module_version": "^0.15.0",
            "_view_name": "LeafletTileLayerView",
            "attribution": "Google Earth Engine",
            "base": false,
            "bottom": true,
            "detect_retina": false,
            "loading": false,
            "max_native_zoom": 18,
            "max_zoom": 24,
            "min_native_zoom": 0,
            "min_zoom": 0,
            "name": "Bounds",
            "no_wrap": false,
            "opacity": 1,
            "options": [
              "attribution",
              "detect_retina",
              "max_native_zoom",
              "max_zoom",
              "min_native_zoom",
              "min_zoom",
              "no_wrap",
              "tile_size",
              "tms"
            ],
            "popup": null,
            "popup_max_height": null,
            "popup_max_width": 300,
            "popup_min_width": 50,
            "show_loading": false,
            "tile_size": 256,
            "tms": false,
            "url": "https://earthengine.googleapis.com/v1alpha/projects/earthengine-legacy/maps/684358ff4f36bed79d51a4dda9009374-7cd85b974fb3ee905959a20ad33045a1/tiles/{z}/{x}/{y}",
            "visible": true
          }
        },
        "b0e27d96f4944318aa7ab683e0cc835d": {
          "model_module": "@jupyter-widgets/base",
          "model_name": "LayoutModel",
          "model_module_version": "1.2.0",
          "state": {
            "_model_module": "@jupyter-widgets/base",
            "_model_module_version": "1.2.0",
            "_model_name": "LayoutModel",
            "_view_count": null,
            "_view_module": "@jupyter-widgets/base",
            "_view_module_version": "1.2.0",
            "_view_name": "LayoutView",
            "align_content": null,
            "align_items": null,
            "align_self": null,
            "border": null,
            "bottom": null,
            "display": null,
            "flex": null,
            "flex_flow": null,
            "grid_area": null,
            "grid_auto_columns": null,
            "grid_auto_flow": null,
            "grid_auto_rows": null,
            "grid_column": null,
            "grid_gap": null,
            "grid_row": null,
            "grid_template_areas": null,
            "grid_template_columns": null,
            "grid_template_rows": null,
            "height": "600px",
            "justify_content": null,
            "justify_items": null,
            "left": null,
            "margin": null,
            "max_height": null,
            "max_width": null,
            "min_height": null,
            "min_width": null,
            "object_fit": null,
            "object_position": null,
            "order": null,
            "overflow": null,
            "overflow_x": null,
            "overflow_y": null,
            "padding": null,
            "right": null,
            "top": null,
            "visibility": null,
            "width": null
          }
        },
        "8672f74af0f64d5a96d30022d9d0afbe": {
          "model_module": "jupyter-leaflet",
          "model_name": "LeafletMapStyleModel",
          "model_module_version": "^0.15.0",
          "state": {
            "_model_module": "jupyter-leaflet",
            "_model_module_version": "^0.15.0",
            "_model_name": "LeafletMapStyleModel",
            "_view_count": null,
            "_view_module": "@jupyter-widgets/base",
            "_view_module_version": "1.2.0",
            "_view_name": "StyleView",
            "cursor": "grab"
          }
        },
        "304390a5e5b0436b8aec474eeb7d87fa": {
          "model_module": "@jupyter-widgets/controls",
          "model_name": "HBoxModel",
          "model_module_version": "1.5.0",
          "state": {
            "_dom_classes": [],
            "_model_module": "@jupyter-widgets/controls",
            "_model_module_version": "1.5.0",
            "_model_name": "HBoxModel",
            "_view_count": null,
            "_view_module": "@jupyter-widgets/controls",
            "_view_module_version": "1.5.0",
            "_view_name": "HBoxView",
            "box_style": "",
            "children": [
              "IPY_MODEL_0a026c05a64f4847a4aca0ae41bd0175"
            ],
            "layout": "IPY_MODEL_07f2e06eb03342f4b12f2f4896d2ba6f"
          }
        },
        "7b74ef61838143c3a73504b6f5559606": {
          "model_module": "@jupyter-widgets/controls",
          "model_name": "VBoxModel",
          "model_module_version": "1.5.0",
          "state": {
            "_dom_classes": [],
            "_model_module": "@jupyter-widgets/controls",
            "_model_module_version": "1.5.0",
            "_model_name": "VBoxModel",
            "_view_count": null,
            "_view_module": "@jupyter-widgets/controls",
            "_view_module_version": "1.5.0",
            "_view_name": "VBoxView",
            "box_style": "",
            "children": [
              "IPY_MODEL_51c328014bd94252ac82bfadb06be4e7"
            ],
            "layout": "IPY_MODEL_fed1ff8bde1648efbf89f4e0fcbde422"
          }
        },
        "0a026c05a64f4847a4aca0ae41bd0175": {
          "model_module": "@jupyter-widgets/controls",
          "model_name": "ToggleButtonModel",
          "model_module_version": "1.5.0",
          "state": {
            "_dom_classes": [],
            "_model_module": "@jupyter-widgets/controls",
            "_model_module_version": "1.5.0",
            "_model_name": "ToggleButtonModel",
            "_view_count": null,
            "_view_module": "@jupyter-widgets/controls",
            "_view_module_version": "1.5.0",
            "_view_name": "ToggleButtonView",
            "button_style": "",
            "description": "",
            "description_tooltip": null,
            "disabled": false,
            "icon": "globe",
            "layout": "IPY_MODEL_1b61404efcc846c49095f975001970ee",
            "style": "IPY_MODEL_0a4bfc5ca9204be7a36c5292a892247b",
            "tooltip": "Search location/data",
            "value": false
          }
        },
        "07f2e06eb03342f4b12f2f4896d2ba6f": {
          "model_module": "@jupyter-widgets/base",
          "model_name": "LayoutModel",
          "model_module_version": "1.2.0",
          "state": {
            "_model_module": "@jupyter-widgets/base",
            "_model_module_version": "1.2.0",
            "_model_name": "LayoutModel",
            "_view_count": null,
            "_view_module": "@jupyter-widgets/base",
            "_view_module_version": "1.2.0",
            "_view_name": "LayoutView",
            "align_content": null,
            "align_items": null,
            "align_self": null,
            "border": null,
            "bottom": null,
            "display": null,
            "flex": null,
            "flex_flow": null,
            "grid_area": null,
            "grid_auto_columns": null,
            "grid_auto_flow": null,
            "grid_auto_rows": null,
            "grid_column": null,
            "grid_gap": null,
            "grid_row": null,
            "grid_template_areas": null,
            "grid_template_columns": null,
            "grid_template_rows": null,
            "height": null,
            "justify_content": null,
            "justify_items": null,
            "left": null,
            "margin": null,
            "max_height": null,
            "max_width": null,
            "min_height": null,
            "min_width": null,
            "object_fit": null,
            "object_position": null,
            "order": null,
            "overflow": null,
            "overflow_x": null,
            "overflow_y": null,
            "padding": null,
            "right": null,
            "top": null,
            "visibility": null,
            "width": null
          }
        },
        "51c328014bd94252ac82bfadb06be4e7": {
          "model_module": "@jupyter-widgets/controls",
          "model_name": "ToggleButtonModel",
          "model_module_version": "1.5.0",
          "state": {
            "_dom_classes": [],
            "_model_module": "@jupyter-widgets/controls",
            "_model_module_version": "1.5.0",
            "_model_name": "ToggleButtonModel",
            "_view_count": null,
            "_view_module": "@jupyter-widgets/controls",
            "_view_module_version": "1.5.0",
            "_view_name": "ToggleButtonView",
            "button_style": "",
            "description": "",
            "description_tooltip": null,
            "disabled": false,
            "icon": "wrench",
            "layout": "IPY_MODEL_2958083e3eb34025917958a067259991",
            "style": "IPY_MODEL_f8fd7990e5074a2d9ea90fe49a7d8051",
            "tooltip": "Toolbar",
            "value": false
          }
        },
        "fed1ff8bde1648efbf89f4e0fcbde422": {
          "model_module": "@jupyter-widgets/base",
          "model_name": "LayoutModel",
          "model_module_version": "1.2.0",
          "state": {
            "_model_module": "@jupyter-widgets/base",
            "_model_module_version": "1.2.0",
            "_model_name": "LayoutModel",
            "_view_count": null,
            "_view_module": "@jupyter-widgets/base",
            "_view_module_version": "1.2.0",
            "_view_name": "LayoutView",
            "align_content": null,
            "align_items": null,
            "align_self": null,
            "border": null,
            "bottom": null,
            "display": null,
            "flex": null,
            "flex_flow": null,
            "grid_area": null,
            "grid_auto_columns": null,
            "grid_auto_flow": null,
            "grid_auto_rows": null,
            "grid_column": null,
            "grid_gap": null,
            "grid_row": null,
            "grid_template_areas": null,
            "grid_template_columns": null,
            "grid_template_rows": null,
            "height": null,
            "justify_content": null,
            "justify_items": null,
            "left": null,
            "margin": null,
            "max_height": null,
            "max_width": null,
            "min_height": null,
            "min_width": null,
            "object_fit": null,
            "object_position": null,
            "order": null,
            "overflow": null,
            "overflow_x": null,
            "overflow_y": null,
            "padding": null,
            "right": null,
            "top": null,
            "visibility": null,
            "width": null
          }
        },
        "1b61404efcc846c49095f975001970ee": {
          "model_module": "@jupyter-widgets/base",
          "model_name": "LayoutModel",
          "model_module_version": "1.2.0",
          "state": {
            "_model_module": "@jupyter-widgets/base",
            "_model_module_version": "1.2.0",
            "_model_name": "LayoutModel",
            "_view_count": null,
            "_view_module": "@jupyter-widgets/base",
            "_view_module_version": "1.2.0",
            "_view_name": "LayoutView",
            "align_content": null,
            "align_items": null,
            "align_self": null,
            "border": null,
            "bottom": null,
            "display": null,
            "flex": null,
            "flex_flow": null,
            "grid_area": null,
            "grid_auto_columns": null,
            "grid_auto_flow": null,
            "grid_auto_rows": null,
            "grid_column": null,
            "grid_gap": null,
            "grid_row": null,
            "grid_template_areas": null,
            "grid_template_columns": null,
            "grid_template_rows": null,
            "height": "28px",
            "justify_content": null,
            "justify_items": null,
            "left": null,
            "margin": null,
            "max_height": null,
            "max_width": null,
            "min_height": null,
            "min_width": null,
            "object_fit": null,
            "object_position": null,
            "order": null,
            "overflow": null,
            "overflow_x": null,
            "overflow_y": null,
            "padding": "0px 0px 0px 4px",
            "right": null,
            "top": null,
            "visibility": null,
            "width": "28px"
          }
        },
        "0a4bfc5ca9204be7a36c5292a892247b": {
          "model_module": "@jupyter-widgets/controls",
          "model_name": "DescriptionStyleModel",
          "model_module_version": "1.5.0",
          "state": {
            "_model_module": "@jupyter-widgets/controls",
            "_model_module_version": "1.5.0",
            "_model_name": "DescriptionStyleModel",
            "_view_count": null,
            "_view_module": "@jupyter-widgets/base",
            "_view_module_version": "1.2.0",
            "_view_name": "StyleView",
            "description_width": ""
          }
        },
        "2958083e3eb34025917958a067259991": {
          "model_module": "@jupyter-widgets/base",
          "model_name": "LayoutModel",
          "model_module_version": "1.2.0",
          "state": {
            "_model_module": "@jupyter-widgets/base",
            "_model_module_version": "1.2.0",
            "_model_name": "LayoutModel",
            "_view_count": null,
            "_view_module": "@jupyter-widgets/base",
            "_view_module_version": "1.2.0",
            "_view_name": "LayoutView",
            "align_content": null,
            "align_items": null,
            "align_self": null,
            "border": null,
            "bottom": null,
            "display": null,
            "flex": null,
            "flex_flow": null,
            "grid_area": null,
            "grid_auto_columns": null,
            "grid_auto_flow": null,
            "grid_auto_rows": null,
            "grid_column": null,
            "grid_gap": null,
            "grid_row": null,
            "grid_template_areas": null,
            "grid_template_columns": null,
            "grid_template_rows": null,
            "height": "28px",
            "justify_content": null,
            "justify_items": null,
            "left": null,
            "margin": null,
            "max_height": null,
            "max_width": null,
            "min_height": null,
            "min_width": null,
            "object_fit": null,
            "object_position": null,
            "order": null,
            "overflow": null,
            "overflow_x": null,
            "overflow_y": null,
            "padding": "0px 0px 0px 4px",
            "right": null,
            "top": null,
            "visibility": null,
            "width": "28px"
          }
        },
        "f8fd7990e5074a2d9ea90fe49a7d8051": {
          "model_module": "@jupyter-widgets/controls",
          "model_name": "DescriptionStyleModel",
          "model_module_version": "1.5.0",
          "state": {
            "_model_module": "@jupyter-widgets/controls",
            "_model_module_version": "1.5.0",
            "_model_name": "DescriptionStyleModel",
            "_view_count": null,
            "_view_module": "@jupyter-widgets/base",
            "_view_module_version": "1.2.0",
            "_view_name": "StyleView",
            "description_width": ""
          }
        }
      }
    }
  },
  "cells": [
    {
      "cell_type": "markdown",
      "source": [
        "ME975 Satellite Data Assimilation and Analysis - Assignment 1\n",
        "\n",
        "Jacob Currie - 201718558\n",
        "\n",
        "Below:\n",
        "**Initial setup script**, installs geemap (google maps style mapping/plotting)\n",
        "Prompts earthengine authentication token\n",
        "imports relevant libraries\n",
        "initialises earth engine\n",
        "\n",
        "Only needs to be run once at the start of each session!"
      ],
      "metadata": {
        "id": "E5JID0NoHd_A"
      }
    },
    {
      "cell_type": "code",
      "execution_count": null,
      "metadata": {
        "id": "7mMneC3uHdRc"
      },
      "outputs": [],
      "source": [
        "#Inital Setup\n",
        "!pip install geemap\n",
        "!earthengine authenticate \n",
        "import ee\n",
        "import geemap.eefolium\n",
        "import pprint as pp\n",
        "import matplotlib.pyplot as plt\n",
        "ee.Initialize()"
      ]
    },
    {
      "cell_type": "markdown",
      "source": [
        "Below:\n",
        "The **Main Script** using earth engine to collect, process and store the relevant data.\n",
        "\n",
        "It only needs to be run once to acquire and store the data for use elsewhere.\n",
        "\n",
        "(This takes time to run, the .getInfo() method causes delay in acquiring data)"
      ],
      "metadata": {
        "id": "YOG-qgt-gGUK"
      }
    },
    {
      "cell_type": "code",
      "source": [
        "#Main Script\n",
        "DistrictNamesList = ['Borders', 'Central', 'Dumfries and Gal', 'Fyfe', 'Grampian', 'Highland', 'Lothian', 'Orkney', 'Shetland Islands', 'Strathclyde', 'Tayside', 'Western Isles'] #List of the level2 District Names\n",
        "\n",
        "NO2_2019List = [] #Empty lists for storing per-district data\n",
        "NO2_2020List = []\n",
        "NO2_2021List = []\n",
        "PopDensList = []\n",
        "\n",
        "Scotland_Bounds = ee.FeatureCollection(\"FAO/GAUL/2015/level2\").filterMetadata('ADM1_NAME', 'equals', 'Scotland') #Getting Scotland District Bounds\n",
        "Population_Data = ee.Image(\"JRC/GHSL/P2016/POP_GPW_GLOBE_V1/2015\").select('population_count').clip(Scotland_Bounds.geometry()) #Getting Population data\n",
        "NO2_Data = ee.ImageCollection(\"COPERNICUS/S5P/OFFL/L3_NO2\").filterBounds(Scotland_Bounds.geometry()) #Getting total NO2 data\n",
        "\n",
        "NO2_2019 = NO2_Data.filterDate('2019-01-01', '2019-12-31').mean().select(['tropospheric_NO2_column_number_density']).clip(Scotland_Bounds.geometry()) #Per-Year mean NO2 column density image clipped to Scotland\n",
        "NO2_2020 = NO2_Data.filterDate('2020-01-01', '2020-12-31').mean().select(['tropospheric_NO2_column_number_density']).clip(Scotland_Bounds.geometry())\n",
        "NO2_2021 = NO2_Data.filterDate('2021-01-01', '2021-12-31').mean().select(['tropospheric_NO2_column_number_density']).clip(Scotland_Bounds.geometry()) \n",
        "\n",
        "for District in DistrictNamesList: #For every district - calling .getInfo() inside loop - inefficient but it works\n",
        "  District_Bounds = Scotland_Bounds.filterMetadata('ADM2_NAME', 'equals', District) #Getting level2 district data\n",
        "  NO2_2019List.append(NO2_2019.reduceRegion(**{'geometry': District_Bounds.geometry(), 'reducer': ee.Reducer.mean(),'scale': 1000,}).getInfo()['tropospheric_NO2_column_number_density']) #NO2 value for each district\n",
        "  NO2_2020List.append(NO2_2020.reduceRegion(**{'geometry': District_Bounds.geometry(), 'reducer': ee.Reducer.mean(),'scale': 1000,}).getInfo()['tropospheric_NO2_column_number_density']) #per-year NO2 value (reduce over region)\n",
        "  NO2_2021List.append(NO2_2021.reduceRegion(**{'geometry': District_Bounds.geometry(), 'reducer': ee.Reducer.mean(),'scale': 1000,}).getInfo()['tropospheric_NO2_column_number_density'])\n",
        "  PopSize = Population_Data.reduceRegion(**{'geometry': District_Bounds.geometry(), 'reducer': ee.Reducer.sum(), 'scale': 250, 'maxPixels':1e9})  #Getting total population size per district (reduce over region)\n",
        "  PopDensList.append(PopSize.getInfo()['population_count']/ 1e6 / District_Bounds.aggregate_array('Shape_Area').getInfo()[0]) #Calculating population density per district {=total population / district area}\n",
        "\n",
        "for i in range(len(DistrictNamesList)): #PRINTING RESULTS TO CONSOLE - for each district - printing NO2 and population density\n",
        "  print('District: '+DistrictNamesList[i])\n",
        "  print('(mol/m^2) - 2019 NO2: '+str(round(NO2_2019List[i],12))+' - 2020 NO2: '+str(round(NO2_2020List[i],12))+' - 2021 NO2: '+str(round(NO2_2021List[i],12))+' - Population Density: '+str(PopDensList[i]))\n",
        "  print('---------------------')\n"
      ],
      "metadata": {
        "id": "BINf9LWXH8mf",
        "colab": {
          "base_uri": "https://localhost:8080/"
        },
        "outputId": "d940fc49-bc67-4f87-ddd9-5afae27c791f"
      },
      "execution_count": null,
      "outputs": [
        {
          "output_type": "stream",
          "name": "stdout",
          "text": [
            "District: Borders\n",
            "(mol/m^2) - 2019 NO2: 2.2122009e-05 - 2020 NO2: 2.0716044e-05 - 2021 NO2: 2.2101361e-05 - Population Density: 0.17426138278757503\n",
            "---------------------\n",
            "District: Central\n",
            "(mol/m^2) - 2019 NO2: 2.3609145e-05 - 2020 NO2: 2.1842954e-05 - 2021 NO2: 2.207591e-05 - Population Density: 0.7882225176754679\n",
            "---------------------\n",
            "District: Dumfries and Gal\n",
            "(mol/m^2) - 2019 NO2: 2.2920206e-05 - 2020 NO2: 2.0838283e-05 - 2021 NO2: 2.0215836e-05 - Population Density: 0.1657262549941687\n",
            "---------------------\n",
            "District: Fyfe\n",
            "(mol/m^2) - 2019 NO2: 2.9965724e-05 - 2020 NO2: 2.7177963e-05 - 2021 NO2: 3.0077169e-05 - Population Density: 1.8709740668009556\n",
            "---------------------\n",
            "District: Grampian\n",
            "(mol/m^2) - 2019 NO2: 1.7438069e-05 - 2020 NO2: 1.8644532e-05 - 2021 NO2: 1.932079e-05 - Population Density: 0.44117151972967555\n",
            "---------------------\n",
            "District: Highland\n",
            "(mol/m^2) - 2019 NO2: 1.6123909e-05 - 2020 NO2: 1.5392865e-05 - 2021 NO2: 1.4390165e-05 - Population Density: 0.058451959776377994\n",
            "---------------------\n",
            "District: Lothian\n",
            "(mol/m^2) - 2019 NO2: 2.9786135e-05 - 2020 NO2: 2.5521301e-05 - 2021 NO2: 3.1581786e-05 - Population Density: 3.289956581898585\n",
            "---------------------\n",
            "District: Orkney\n",
            "(mol/m^2) - 2019 NO2: 1.2591066e-05 - 2020 NO2: 1.2271621e-05 - 2021 NO2: 1.1731657e-05 - Population Density: 0.1320787293067459\n",
            "---------------------\n",
            "District: Shetland Islands\n",
            "(mol/m^2) - 2019 NO2: 1.2150155e-05 - 2020 NO2: 9.723056e-06 - 2021 NO2: 1.0305212e-05 - Population Density: 0.07400979504997422\n",
            "---------------------\n",
            "District: Strathclyde\n",
            "(mol/m^2) - 2019 NO2: 2.2034039e-05 - 2020 NO2: 2.0490749e-05 - 2021 NO2: 2.0276746e-05 - Population Density: 1.0977339910833979\n",
            "---------------------\n",
            "District: Tayside\n",
            "(mol/m^2) - 2019 NO2: 1.9160837e-05 - 2020 NO2: 1.981542e-05 - 2021 NO2: 1.9620622e-05 - Population Density: 0.3546662688716222\n",
            "---------------------\n",
            "District: Western Isles\n",
            "(mol/m^2) - 2019 NO2: 1.271783e-05 - 2020 NO2: 1.0717729e-05 - 2021 NO2: 1.0706164e-05 - Population Density: 0.055960752561892306\n",
            "---------------------\n"
          ]
        }
      ]
    },
    {
      "cell_type": "markdown",
      "source": [
        "Below: The **Mapping Script** that produces the Geemap (Google maps style) figures, each different set of data (year selection, NO2, population size, etc.) are represented as different layers on the map that can be shown and hidden from the layer menu."
      ],
      "metadata": {
        "id": "dQvdyctEjWy1"
      }
    },
    {
      "cell_type": "code",
      "source": [
        "#Geemap Mapping Script\n",
        "\n",
        "#plotting options\n",
        "NO2_viz = {'min': 0, 'max': 0.00008, 'palette': ['black', 'blue', 'purple', 'cyan', 'green', 'yellow', 'red']}\n",
        "Pop_viz = {'min': 0, 'max': 50, 'palette': ['white', 'blue', 'purple', 'cyan', 'green', 'yellow', 'red']}\n",
        "\n",
        "#Making Geemap + layers\n",
        "Map = geemap.Map(center=[57.404790, -4.304002], zoom=6)\n",
        "Map.addLayer(Population_Data, Pop_viz, 'Population')\n",
        "Map.addLayer(NO2_2019, NO2_viz, 'NO2 2019')\n",
        "Map.addLayer(NO2_2020, NO2_viz, 'NO2 2020')\n",
        "Map.addLayer(NO2_2021, NO2_viz, 'NO2 2021')\n",
        "Map.addLayer(Scotland_Bounds, {}, 'Bounds')\n",
        "Map.addLayerControl()\n",
        "Map"
      ],
      "metadata": {
        "colab": {
          "base_uri": "https://localhost:8080/",
          "height": 621,
          "referenced_widgets": [
            "2ef0e66c11f7440b8b44eba7b044adf4",
            "9f434f3fc02f4b9992c590d7b9470a2b",
            "997e89b0e6b5456995c86d9d4f20a393",
            "5d6c6ba3d2804556abeff1044a63c32d",
            "03d3dafa5f2b4226bf679a040d8d9066",
            "5d4862821a254728bf74472828f758d7",
            "ca5cec17e7154126a344f28d02836579",
            "6a64f3fc3af04a068323c6055140c376",
            "166fa37d22634fa2a19e645f0acf9cf1",
            "25703c7d6c354abca3b86a7a554647c9",
            "25b4a688a9324fd08bb27b78172ddca6",
            "7bb5ae95229541ec97069a60f95057c9",
            "147303337cec42fd9fea5f422cbefe7b",
            "3f485fda48e74587aaf69a4b9cd7e077",
            "a2026be8ff154dea814ce4120d38ba72",
            "e4e8c5c055c64f61962fc887a1ad9f35",
            "f17938fadbaf453cb557f72ebf15f581",
            "4a6e9398497b49eeaf0e1d03e92d13dc",
            "b0e27d96f4944318aa7ab683e0cc835d",
            "8672f74af0f64d5a96d30022d9d0afbe",
            "304390a5e5b0436b8aec474eeb7d87fa",
            "7b74ef61838143c3a73504b6f5559606",
            "0a026c05a64f4847a4aca0ae41bd0175",
            "07f2e06eb03342f4b12f2f4896d2ba6f",
            "51c328014bd94252ac82bfadb06be4e7",
            "fed1ff8bde1648efbf89f4e0fcbde422",
            "1b61404efcc846c49095f975001970ee",
            "0a4bfc5ca9204be7a36c5292a892247b",
            "2958083e3eb34025917958a067259991",
            "f8fd7990e5074a2d9ea90fe49a7d8051"
          ]
        },
        "id": "OpVoJYPLjRhg",
        "outputId": "796b802d-cc6d-488e-ee8f-a40c971357b5"
      },
      "execution_count": null,
      "outputs": [
        {
          "output_type": "display_data",
          "data": {
            "text/plain": [
              "Map(center=[57.40479, -4.304002], controls=(WidgetControl(options=['position', 'transparent_bg'], widget=HBox(…"
            ],
            "application/vnd.jupyter.widget-view+json": {
              "version_major": 2,
              "version_minor": 0,
              "model_id": "2ef0e66c11f7440b8b44eba7b044adf4"
            }
          },
          "metadata": {
            "application/vnd.jupyter.widget-view+json": {
              "colab": {
                "custom_widget_manager": {
                  "url": "https://ssl.gstatic.com/colaboratory-static/widgets/colab-cdn-widget-manager/a8874ba6619b6106/manager.min.js"
                }
              }
            }
          }
        }
      ]
    },
    {
      "cell_type": "code",
      "source": [
        "#Plotting Script\n",
        "import matplotlib.pyplot as plt\n",
        "import numpy as np\n",
        "\n",
        "DistrictNamesList = ['Borders', 'Central', 'Dumfries and Gal', 'Fyfe', 'Grampian', 'Highland', 'Lothian', 'Orkney', 'Shetland Islands', 'Strathclyde', 'Tayside', 'Western Isles']\n",
        "\n",
        "Data2019 = [2.2122008554262085e-05,2.3609144718329626e-05,2.2920205749643354e-05,2.996572421056435e-05,1.7438069491396237e-05,1.6123909193907615e-05,\n",
        "            2.978613519760064e-05,1.2591065901324445e-05,1.2150154708114013e-05,2.2034038841374178e-05,1.916083730769428e-05,1.2717830142645274e-05]\n",
        "Data2020 = [2.0716044129793837e-05,2.184295374201366e-05,2.0838283314443245e-05,2.7177963032354258e-05,1.8644532261182567e-05,1.5392865174184957e-05,\n",
        "            2.5521300512970897e-05,1.227162058641417e-05,9.72305618677271e-06,2.04907429503703e-05,1.9815419902427874e-05,1.0717729418158482e-05]\n",
        "Data2021 = [2.210136053056543e-05,2.207590961163332e-05,2.0215835905095158e-05,3.0077168762210414e-05,1.9320790396829416e-05,1.439016460944674e-05,\n",
        "            3.158178579266714e-05,1.1731656606566475e-05,1.0305211852537112e-05,2.0276745580832056e-05,1.9620622300899496e-05,1.0706163989725942e-05]\n",
        "LegendLabels = ['2019', '2020', '2021']            \n",
        "PopDensity = [0.17426138278757503,0.7882225176754679,0.1657262549941687,1.8709740668009556,0.44117151972967555,0.058451959776377994,\n",
        "            3.289956581898585,0.1320787293067459,0.07400979504997422,1.0977339910833979,0.3546662688716222,0.055960752561892306]\n",
        "\n",
        "N = len(DistrictNamesList)\n",
        "xIndex = np.arange(N) * 4\n",
        "\n",
        "def NO2_Plot(data):\n",
        "    f1, ax = plt.subplots()\n",
        "    for i in range(len(data)):\n",
        "        ax.bar(xIndex + i, data[i])\n",
        "\n",
        "    ax.set_xticks(xIndex + 1)\n",
        "    ax.set_xticklabels(DistrictNamesList)\n",
        "    ax.legend(LegendLabels)\n",
        "    ax.set_ylabel('tropospheric NO2 column number density (mol/m^2)')\n",
        "    \n",
        "rawData = [Data2019, Data2020, Data2021]\n",
        "NO2_Plot(rawData)"
      ],
      "metadata": {
        "colab": {
          "base_uri": "https://localhost:8080/",
          "height": 297
        },
        "id": "4kALIRp1immU",
        "outputId": "34862428-2914-4982-a2ee-bce492999891"
      },
      "execution_count": null,
      "outputs": [
        {
          "output_type": "display_data",
          "data": {
            "text/plain": [
              "<Figure size 432x288 with 1 Axes>"
            ],
            "image/png": "[encoded data removed]"
          },
          "metadata": {
            "needs_background": "light"
          }
        }
      ]
    }
  ]
}